{
 "cells": [
  {
   "cell_type": "markdown",
   "id": "7080b635-17fb-40bd-bb45-bd95ab7a49b1",
   "metadata": {},
   "source": [
    "# Applying Strata on Synthetic Data"
   ]
  },
  {
   "cell_type": "code",
   "execution_count": 1,
   "id": "8fc5e088-2ce9-4bda-a261-6825b10744ba",
   "metadata": {},
   "outputs": [],
   "source": [
    "import sys\n",
    "\n",
    "sys.path.append(\"../\")"
   ]
  },
  {
   "cell_type": "code",
   "execution_count": 2,
   "id": "8bee8627-cb3c-4227-b72a-8d3fbe1e0497",
   "metadata": {},
   "outputs": [],
   "source": [
    "import pandas as pd\n",
    "\n",
    "from utils.bootstrap import bootstrap_experiment\n",
    "from utils.prop_utils import prop_probs\n",
    "from utils.strat_utils import calculate_stratified_effects"
   ]
  },
  {
   "cell_type": "code",
   "execution_count": 3,
   "id": "b6109f71-fdb1-44fe-934e-8b80fb310727",
   "metadata": {},
   "outputs": [],
   "source": [
    "synthetic_1000 = pd.read_csv(\"../output/synthetic_1000.csv\")\n",
    "synthetic_10000 = pd.read_csv(\"../output/synthetic_10000.csv\")\n",
    "synthetic_100000 = pd.read_csv(\"../output/synthetic_100000.csv\")\n",
    "\n",
    "synthetic_1000[\"re78_re75\"] = synthetic_1000[\"re78\"] - synthetic_1000[\"re75\"]\n",
    "synthetic_10000[\"re78_re75\"] = synthetic_10000[\"re78\"] - synthetic_10000[\"re75\"]\n",
    "synthetic_100000[\"re78_re75\"] = synthetic_100000[\"re78\"] - synthetic_100000[\"re75\"]\n",
    "\n",
    "synthetic_1000[\"id\"] = synthetic_1000.reset_index()[\"index\"]\n",
    "synthetic_10000[\"id\"] = synthetic_10000.reset_index()[\"index\"]\n",
    "synthetic_100000[\"id\"] = synthetic_100000.reset_index()[\"index\"]"
   ]
  },
  {
   "cell_type": "code",
   "execution_count": 4,
   "id": "76d08ddb-a254-4160-8b40-a3e08313f80f",
   "metadata": {},
   "outputs": [],
   "source": [
    "propensity_probabilities = prop_probs(\n",
    "    synthetic_1000,\n",
    "    \"treat\",\n",
    "    [\"age\", \"education\", \"black\", \"hispanic\", \"married\", \"re74\", \"re75\"],\n",
    ")\n",
    "synthetic_1000 = pd.merge(synthetic_1000, propensity_probabilities, on=\"id\")"
   ]
  },
  {
   "cell_type": "code",
   "execution_count": 5,
   "id": "dbcb75b3-5b10-4f8f-b986-ebf1ac34a510",
   "metadata": {},
   "outputs": [
    {
     "name": "stderr",
     "output_type": "stream",
     "text": [
      "Running experiments: 100%|████████████████████████████████████████████████████████████████████████████████████████████████████████████████████████████| 1/1 [00:00<00:00,  6.98it/s]"
     ]
    },
    {
     "name": "stdout",
     "output_type": "stream",
     "text": [
      "Causal estimate of `Re78` - `Re75` in Synthetic data as a difference of means is US$4356.52 ± [3177.33, 5391.32]\n"
     ]
    },
    {
     "name": "stderr",
     "output_type": "stream",
     "text": [
      "\n"
     ]
    }
   ],
   "source": [
    "ci = bootstrap_experiment(\n",
    "    synthetic_1000,\n",
    "    calculate_stratified_effects,\n",
    "    num_exp=1,\n",
    "    n=50,\n",
    "    ci=95,\n",
    "    prop_col=\"propensity\",\n",
    "    treatment_col=\"treat\",\n",
    "    outcome_col=\"re78_re75\",\n",
    "    num_strata=7,\n",
    ")\n",
    "\n",
    "print(\n",
    "    f\"Causal estimate of `Re78` - `Re75` in Synthetic data as a difference of means is \"\n",
    "    f\"US${ci[0][0]:.2f} ± [{ci[0][1]:.2f}, {ci[0][2]:.2f}]\"\n",
    ")"
   ]
  },
  {
   "cell_type": "code",
   "execution_count": 6,
   "id": "526398eb-be58-461e-8a12-f4989e22bdaa",
   "metadata": {},
   "outputs": [],
   "source": [
    "propensity_probabilities = prop_probs(\n",
    "    synthetic_10000,\n",
    "    \"treat\",\n",
    "    [\"age\", \"education\", \"black\", \"hispanic\", \"married\", \"re74\", \"re75\"],\n",
    ")\n",
    "synthetic_10000 = pd.merge(synthetic_10000, propensity_probabilities, on=\"id\")"
   ]
  },
  {
   "cell_type": "code",
   "execution_count": 7,
   "id": "1d3797f9-ecd2-47d7-b31f-fac6b56a846b",
   "metadata": {},
   "outputs": [
    {
     "name": "stderr",
     "output_type": "stream",
     "text": [
      "Running experiments: 100%|████████████████████████████████████████████████████████████████████████████████████████████████████████████████████████████| 1/1 [00:00<00:00,  4.69it/s]"
     ]
    },
    {
     "name": "stdout",
     "output_type": "stream",
     "text": [
      "Causal estimate of `Re78` - `Re75` in Synthetic data as a difference of means is US$4717.56 ± [4307.82, 5068.40]\n"
     ]
    },
    {
     "name": "stderr",
     "output_type": "stream",
     "text": [
      "\n"
     ]
    }
   ],
   "source": [
    "ci = bootstrap_experiment(\n",
    "    synthetic_10000,\n",
    "    calculate_stratified_effects,\n",
    "    num_exp=1,\n",
    "    n=50,\n",
    "    ci=95,\n",
    "    prop_col=\"propensity\",\n",
    "    treatment_col=\"treat\",\n",
    "    outcome_col=\"re78_re75\",\n",
    "    num_strata=7,\n",
    ")\n",
    "\n",
    "print(\n",
    "    f\"Causal estimate of `Re78` - `Re75` in Synthetic data as a difference of means is \"\n",
    "    f\"US${ci[0][0]:.2f} ± [{ci[0][1]:.2f}, {ci[0][2]:.2f}]\"\n",
    ")"
   ]
  },
  {
   "cell_type": "code",
   "execution_count": 8,
   "id": "149c5764-524e-4e20-88e3-629efec0bbe4",
   "metadata": {},
   "outputs": [],
   "source": [
    "propensity_probabilities = prop_probs(\n",
    "    synthetic_100000,\n",
    "    \"treat\",\n",
    "    [\"age\", \"education\", \"black\", \"hispanic\", \"married\", \"re74\", \"re75\"],\n",
    ")\n",
    "synthetic_100000 = pd.merge(synthetic_100000, propensity_probabilities, on=\"id\")"
   ]
  },
  {
   "cell_type": "code",
   "execution_count": 9,
   "id": "34c0b2a1-8f41-4301-88c4-4629411a46ae",
   "metadata": {},
   "outputs": [
    {
     "name": "stderr",
     "output_type": "stream",
     "text": [
      "Running experiments: 100%|████████████████████████████████████████████████████████████████████████████████████████████████████████████████████████████| 1/1 [00:00<00:00,  1.26it/s]"
     ]
    },
    {
     "name": "stdout",
     "output_type": "stream",
     "text": [
      "Causal estimate of `Re78` - `Re75` in Synthetic data as a difference of means is US$4913.45 ± [4773.73, 5030.68]\n"
     ]
    },
    {
     "name": "stderr",
     "output_type": "stream",
     "text": [
      "\n"
     ]
    }
   ],
   "source": [
    "ci = bootstrap_experiment(\n",
    "    synthetic_100000,\n",
    "    calculate_stratified_effects,\n",
    "    num_exp=1,\n",
    "    n=50,\n",
    "    ci=95,\n",
    "    prop_col=\"propensity\",\n",
    "    treatment_col=\"treat\",\n",
    "    outcome_col=\"re78_re75\",\n",
    "    num_strata=7,\n",
    ")\n",
    "\n",
    "print(\n",
    "    f\"Causal estimate of `Re78` - `Re75` in Synthetic data as a difference of means is \"\n",
    "    f\"US${ci[0][0]:.2f} ± [{ci[0][1]:.2f}, {ci[0][2]:.2f}]\"\n",
    ")"
   ]
  },
  {
   "cell_type": "markdown",
   "id": "37aee00f-76df-4b47-9bfe-9047674cf235",
   "metadata": {},
   "source": [
    "## Naive E[Y|A]\n",
    "\n",
    "This is the method with strata = 1"
   ]
  },
  {
   "cell_type": "code",
   "execution_count": 10,
   "id": "2dd88704-c05e-4947-9903-0ca5cb75afed",
   "metadata": {},
   "outputs": [
    {
     "name": "stderr",
     "output_type": "stream",
     "text": [
      "Running experiments: 100%|████████████████████████████████████████████████████████████████████████████████████████████████████████████████████████████| 1/1 [00:00<00:00, 14.50it/s]"
     ]
    },
    {
     "name": "stdout",
     "output_type": "stream",
     "text": [
      "Causal estimate of `Re78` - `Re75` in Synthetic data as a difference of means is US$4420.95 ± [3393.72, 5395.73]\n"
     ]
    },
    {
     "name": "stderr",
     "output_type": "stream",
     "text": [
      "\n"
     ]
    }
   ],
   "source": [
    "ci = bootstrap_experiment(\n",
    "    synthetic_1000,\n",
    "    calculate_stratified_effects,\n",
    "    num_exp=1,\n",
    "    n=50,\n",
    "    ci=95,\n",
    "    prop_col=\"propensity\",\n",
    "    treatment_col=\"treat\",\n",
    "    outcome_col=\"re78_re75\",\n",
    "    num_strata=1,\n",
    ")\n",
    "\n",
    "print(\n",
    "    f\"Causal estimate of `Re78` - `Re75` in Synthetic data as a difference of means is \"\n",
    "    f\"US${ci[0][0]:.2f} ± [{ci[0][1]:.2f}, {ci[0][2]:.2f}]\"\n",
    ")"
   ]
  },
  {
   "cell_type": "code",
   "execution_count": 11,
   "id": "9a9ab87a-e633-4893-816c-277615fad4aa",
   "metadata": {},
   "outputs": [
    {
     "name": "stderr",
     "output_type": "stream",
     "text": [
      "Running experiments: 100%|████████████████████████████████████████████████████████████████████████████████████████████████████████████████████████████| 1/1 [00:00<00:00,  9.06it/s]"
     ]
    },
    {
     "name": "stdout",
     "output_type": "stream",
     "text": [
      "Causal estimate of `Re78` - `Re75` in Synthetic data as a difference of means is US$5004.29 ± [4594.87, 5358.68]\n"
     ]
    },
    {
     "name": "stderr",
     "output_type": "stream",
     "text": [
      "\n"
     ]
    }
   ],
   "source": [
    "ci = bootstrap_experiment(\n",
    "    synthetic_10000,\n",
    "    calculate_stratified_effects,\n",
    "    num_exp=1,\n",
    "    n=50,\n",
    "    ci=95,\n",
    "    prop_col=\"propensity\",\n",
    "    treatment_col=\"treat\",\n",
    "    outcome_col=\"re78_re75\",\n",
    "    num_strata=1,\n",
    ")\n",
    "\n",
    "print(\n",
    "    f\"Causal estimate of `Re78` - `Re75` in Synthetic data as a difference of means is \"\n",
    "    f\"US${ci[0][0]:.2f} ± [{ci[0][1]:.2f}, {ci[0][2]:.2f}]\"\n",
    ")"
   ]
  },
  {
   "cell_type": "code",
   "execution_count": 12,
   "id": "57b435ce-13b9-4e52-a9cd-171040812664",
   "metadata": {},
   "outputs": [
    {
     "name": "stderr",
     "output_type": "stream",
     "text": [
      "Running experiments: 100%|████████████████████████████████████████████████████████████████████████████████████████████████████████████████████████████| 1/1 [00:00<00:00,  1.66it/s]"
     ]
    },
    {
     "name": "stdout",
     "output_type": "stream",
     "text": [
      "Causal estimate of `Re78` - `Re75` in Synthetic data as a difference of means is US$5287.46 ± [5165.69, 5397.89]\n"
     ]
    },
    {
     "name": "stderr",
     "output_type": "stream",
     "text": [
      "\n"
     ]
    }
   ],
   "source": [
    "ci = bootstrap_experiment(\n",
    "    synthetic_100000,\n",
    "    calculate_stratified_effects,\n",
    "    num_exp=1,\n",
    "    n=50,\n",
    "    ci=95,\n",
    "    prop_col=\"propensity\",\n",
    "    treatment_col=\"treat\",\n",
    "    outcome_col=\"re78_re75\",\n",
    "    num_strata=1,\n",
    ")\n",
    "\n",
    "print(\n",
    "    f\"Causal estimate of `Re78` - `Re75` in Synthetic data as a difference of means is \"\n",
    "    f\"US${ci[0][0]:.2f} ± [{ci[0][1]:.2f}, {ci[0][2]:.2f}]\"\n",
    ")"
   ]
  },
  {
   "cell_type": "code",
   "execution_count": null,
   "id": "d1743d55-e7b2-42c3-874c-1a55a74654ee",
   "metadata": {},
   "outputs": [],
   "source": []
  }
 ],
 "metadata": {
  "kernelspec": {
   "display_name": "Python 3 (ipykernel)",
   "language": "python",
   "name": "python3"
  },
  "language_info": {
   "codemirror_mode": {
    "name": "ipython",
    "version": 3
   },
   "file_extension": ".py",
   "mimetype": "text/x-python",
   "name": "python",
   "nbconvert_exporter": "python",
   "pygments_lexer": "ipython3",
   "version": "3.9.19"
  }
 },
 "nbformat": 4,
 "nbformat_minor": 5
}
