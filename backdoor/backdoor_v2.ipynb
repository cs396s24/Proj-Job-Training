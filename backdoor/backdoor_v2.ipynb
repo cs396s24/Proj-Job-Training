{
 "cells": [
  {
   "cell_type": "markdown",
   "id": "0839e537-3636-43b9-9d5b-788aa4a5369d",
   "metadata": {},
   "source": [
    "# Backdoor v2"
   ]
  },
  {
   "cell_type": "code",
   "execution_count": 1,
   "id": "8e83466d-148a-4832-85dc-d6b83c5e8a48",
   "metadata": {},
   "outputs": [],
   "source": [
    "import numpy as np\n",
    "import pandas as pd\n",
    "from sklearn.ensemble import RandomForestRegressor"
   ]
  },
  {
   "cell_type": "code",
   "execution_count": 2,
   "id": "ed1cd5e8-ced1-43dd-b5db-552979457601",
   "metadata": {},
   "outputs": [],
   "source": [
    "lalonde_obs = pd.read_csv(\"../data/lalonde_psid.csv\")"
   ]
  },
  {
   "cell_type": "code",
   "execution_count": 3,
   "id": "4403b714-288e-422d-b68b-a76a0ef0c684",
   "metadata": {},
   "outputs": [],
   "source": [
    "results = []\n",
    "treatments = [0, 1]"
   ]
  },
  {
   "cell_type": "code",
   "execution_count": 4,
   "id": "daf675e6-1a2a-417c-86a8-fb4093a17f65",
   "metadata": {},
   "outputs": [],
   "source": [
    "confounders = [\n",
    "    \"married\",\n",
    "    \"re74\",\n",
    "    \"re75\",\n",
    "    \"age\",\n",
    "    \"black\",\n",
    "    \"hispanic\",\n",
    "    \"education\",\n",
    "    \"nodegree\",\n",
    "]"
   ]
  },
  {
   "cell_type": "code",
   "execution_count": 5,
   "id": "e64a70f0-756c-4a52-9e71-484241701e94",
   "metadata": {},
   "outputs": [],
   "source": [
    "for a_val in treatments:\n",
    "    lalonde_obs_a = lalonde_obs.loc[lalonde_obs[\"treat\"] == a_val, :].reset_index(\n",
    "        drop=True\n",
    "    )\n",
    "\n",
    "    X_train = lalonde_obs_a[confounders]\n",
    "    y_train = lalonde_obs_a[\"re78\"]\n",
    "\n",
    "    rf_model = RandomForestRegressor(n_estimators=100, random_state=42)\n",
    "    rf_model.fit(X_train, y_train)\n",
    "\n",
    "    y_pred = rf_model.predict(lalonde_obs[confounders])\n",
    "\n",
    "    results.append(np.mean(y_pred))"
   ]
  },
  {
   "cell_type": "code",
   "execution_count": 6,
   "id": "24f4aa61-83f1-4ee2-939b-cba4558a1dc2",
   "metadata": {},
   "outputs": [
    {
     "data": {
      "text/plain": [
       "[20440.312824921435, 11058.714578239731]"
      ]
     },
     "execution_count": 6,
     "metadata": {},
     "output_type": "execute_result"
    }
   ],
   "source": [
    "results"
   ]
  },
  {
   "cell_type": "code",
   "execution_count": null,
   "id": "50c60c48-386c-4326-bd20-de18bec2bbb9",
   "metadata": {},
   "outputs": [],
   "source": []
  }
 ],
 "metadata": {
  "kernelspec": {
   "display_name": "Python 3 (ipykernel)",
   "language": "python",
   "name": "python3"
  },
  "language_info": {
   "codemirror_mode": {
    "name": "ipython",
    "version": 3
   },
   "file_extension": ".py",
   "mimetype": "text/x-python",
   "name": "python",
   "nbconvert_exporter": "python",
   "pygments_lexer": "ipython3",
   "version": "3.12.3"
  }
 },
 "nbformat": 4,
 "nbformat_minor": 5
}
