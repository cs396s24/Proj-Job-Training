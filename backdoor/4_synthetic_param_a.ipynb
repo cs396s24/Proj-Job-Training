{
 "cells": [
  {
   "cell_type": "markdown",
   "id": "7080b635-17fb-40bd-bb45-bd95ab7a49b1",
   "metadata": {},
   "source": [
    "# Applying Treatment Parameter Method on Synthetic Data"
   ]
  },
  {
   "cell_type": "code",
   "execution_count": 1,
   "id": "8fc5e088-2ce9-4bda-a261-6825b10744ba",
   "metadata": {},
   "outputs": [],
   "source": [
    "import sys\n",
    "\n",
    "sys.path.append(\"../\")"
   ]
  },
  {
   "cell_type": "code",
   "execution_count": 2,
   "id": "8bee8627-cb3c-4227-b72a-8d3fbe1e0497",
   "metadata": {},
   "outputs": [],
   "source": [
    "import pandas as pd\n",
    "\n",
    "from utils.backdoor_utils import backdoor_param_a\n",
    "from utils.bootstrap import bootstrap"
   ]
  },
  {
   "cell_type": "code",
   "execution_count": 3,
   "id": "b6109f71-fdb1-44fe-934e-8b80fb310727",
   "metadata": {},
   "outputs": [],
   "source": [
    "synthetic_1000 = pd.read_csv(\"../output/synthetic_1000.csv\")\n",
    "synthetic_10000 = pd.read_csv(\"../output/synthetic_10000.csv\")\n",
    "synthetic_100000 = pd.read_csv(\"../output/synthetic_100000.csv\")"
   ]
  },
  {
   "cell_type": "code",
   "execution_count": 4,
   "id": "45fd5469-810b-489f-a960-d0c98c50cc80",
   "metadata": {},
   "outputs": [],
   "source": [
    "synthetic_1000[\"re78_re75\"] = synthetic_1000[\"re78\"] - synthetic_1000[\"re75\"]\n",
    "synthetic_10000[\"re78_re75\"] = synthetic_10000[\"re78\"] - synthetic_10000[\"re75\"]\n",
    "synthetic_100000[\"re78_re75\"] = synthetic_100000[\"re78\"] - synthetic_100000[\"re75\"]"
   ]
  },
  {
   "cell_type": "code",
   "execution_count": 5,
   "id": "dbcb75b3-5b10-4f8f-b986-ebf1ac34a510",
   "metadata": {},
   "outputs": [
    {
     "name": "stdout",
     "output_type": "stream",
     "text": [
      "Causal estimate of `Re78` -`Re75` in synethetic data as a difference of means is US$4480.77 ± [3688.66, 5340.47]\n"
     ]
    }
   ],
   "source": [
    "ci = bootstrap(\n",
    "    synthetic_1000,\n",
    "    backdoor_param_a,\n",
    "    50,\n",
    "    95,\n",
    "    treatment_col=\"treat\",\n",
    "    outcome_col=\"re78_re75\",\n",
    "    confounder_cols=[\n",
    "        \"age\",\n",
    "        \"education\",\n",
    "        \"black\",\n",
    "        \"hispanic\",\n",
    "        \"married\",\n",
    "        \"re74\",\n",
    "        \"re75\",\n",
    "    ],\n",
    ")\n",
    "\n",
    "print(\n",
    "    f\"Causal estimate of `Re78` -`Re75` in synethetic data as a difference of means is \"\n",
    "    f\"US${ci[0]:.2f} ± [{ci[1]:.2f}, {ci[2]:.2f}]\"\n",
    ")"
   ]
  },
  {
   "cell_type": "code",
   "execution_count": 6,
   "id": "1d3797f9-ecd2-47d7-b31f-fac6b56a846b",
   "metadata": {},
   "outputs": [
    {
     "name": "stdout",
     "output_type": "stream",
     "text": [
      "Causal estimate of `Re78` -`Re75` in synethetic data as a difference of means is US$4792.46 ± [4480.72, 5253.59]\n"
     ]
    }
   ],
   "source": [
    "ci = bootstrap(\n",
    "    synthetic_10000,\n",
    "    backdoor_param_a,\n",
    "    50,\n",
    "    95,\n",
    "    treatment_col=\"treat\",\n",
    "    outcome_col=\"re78_re75\",\n",
    "    confounder_cols=[\n",
    "        \"age\",\n",
    "        \"education\",\n",
    "        \"black\",\n",
    "        \"hispanic\",\n",
    "        \"married\",\n",
    "        \"re74\",\n",
    "        \"re75\",\n",
    "    ],\n",
    ")\n",
    "\n",
    "print(\n",
    "    f\"Causal estimate of `Re78` -`Re75` in synethetic data as a difference of means is \"\n",
    "    f\"US${ci[0]:.2f} ± [{ci[1]:.2f}, {ci[2]:.2f}]\"\n",
    ")"
   ]
  },
  {
   "cell_type": "code",
   "execution_count": 7,
   "id": "34c0b2a1-8f41-4301-88c4-4629411a46ae",
   "metadata": {},
   "outputs": [
    {
     "name": "stdout",
     "output_type": "stream",
     "text": [
      "Causal estimate of `Re78` -`Re75` in synethetic data as a difference of means is US$4984.90 ± [4863.41, 5083.52]\n"
     ]
    }
   ],
   "source": [
    "ci = bootstrap(\n",
    "    synthetic_100000,\n",
    "    backdoor_param_a,\n",
    "    50,\n",
    "    95,\n",
    "    treatment_col=\"treat\",\n",
    "    outcome_col=\"re78_re75\",\n",
    "    confounder_cols=[\n",
    "        \"age\",\n",
    "        \"education\",\n",
    "        \"black\",\n",
    "        \"hispanic\",\n",
    "        \"married\",\n",
    "        \"re74\",\n",
    "        \"re75\",\n",
    "    ],\n",
    ")\n",
    "\n",
    "print(\n",
    "    f\"Causal estimate of `Re78` -`Re75` in synethetic data as a difference of means is \"\n",
    "    f\"US${ci[0]:.2f} ± [{ci[1]:.2f}, {ci[2]:.2f}]\"\n",
    ")"
   ]
  },
  {
   "cell_type": "code",
   "execution_count": null,
   "id": "64b292dd-3503-4a4b-9703-90b96d09b5f5",
   "metadata": {},
   "outputs": [],
   "source": []
  }
 ],
 "metadata": {
  "kernelspec": {
   "display_name": "Python 3 (ipykernel)",
   "language": "python",
   "name": "python3"
  },
  "language_info": {
   "codemirror_mode": {
    "name": "ipython",
    "version": 3
   },
   "file_extension": ".py",
   "mimetype": "text/x-python",
   "name": "python",
   "nbconvert_exporter": "python",
   "pygments_lexer": "ipython3",
   "version": "3.9.19"
  }
 },
 "nbformat": 4,
 "nbformat_minor": 5
}
