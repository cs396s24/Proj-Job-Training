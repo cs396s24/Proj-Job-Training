{
 "cells": [
  {
   "cell_type": "markdown",
   "id": "eea410db-3164-4fd8-838c-dcc48646c83f",
   "metadata": {},
   "source": [
    "# IPW v1"
   ]
  },
  {
   "cell_type": "code",
   "execution_count": 1,
   "id": "6ba42e9c-adb9-4f4e-b622-71d71a41566a",
   "metadata": {},
   "outputs": [],
   "source": [
    "import numpy as np\n",
    "import pandas as pd\n",
    "import statsmodels.api as sm"
   ]
  },
  {
   "cell_type": "code",
   "execution_count": 2,
   "id": "fcd6f3de-cc75-48ee-aaa6-c6e398a16b2d",
   "metadata": {},
   "outputs": [],
   "source": [
    "path = \"../data\""
   ]
  },
  {
   "cell_type": "code",
   "execution_count": 3,
   "id": "01992c3b-1312-4f10-b852-427e2579bc4b",
   "metadata": {},
   "outputs": [],
   "source": [
    "lalonde_obs = pd.read_csv(f\"{path}/lalonde_psid.csv\")"
   ]
  },
  {
   "cell_type": "markdown",
   "id": "3cda42bd-351e-46d0-8793-6287400614ad",
   "metadata": {},
   "source": [
    "## Variable Transformation\n",
    "\n",
    "### Age"
   ]
  },
  {
   "cell_type": "code",
   "execution_count": 4,
   "id": "377fcc42-e55e-444b-8beb-7d537eafbc4c",
   "metadata": {},
   "outputs": [],
   "source": [
    "age_bins = [0, 25, 33, 40, float(\"inf\")]\n",
    "age_labels = [\"0-25\", \"26-33\", \"34-40\", \"41+\"]"
   ]
  },
  {
   "cell_type": "code",
   "execution_count": 5,
   "id": "1ad7ee0a-2b06-4c48-bdcb-5610f1338248",
   "metadata": {},
   "outputs": [],
   "source": [
    "lalonde_obs[\"age_group\"] = pd.cut(\n",
    "    lalonde_obs[\"age\"],\n",
    "    bins=age_bins,\n",
    "    labels=age_labels,\n",
    "    right=False,\n",
    "    include_lowest=True,\n",
    ")"
   ]
  },
  {
   "cell_type": "markdown",
   "id": "e0c5cf1e-01ec-4ddc-9df6-537fab07147c",
   "metadata": {},
   "source": [
    "### Education"
   ]
  },
  {
   "cell_type": "code",
   "execution_count": 6,
   "id": "3c2c83e4-df2e-474e-94a7-d707f8960fb8",
   "metadata": {},
   "outputs": [],
   "source": [
    "bins = [0, 5, 8, 12, float(\"inf\")]\n",
    "labels = [\"0-5\", \"6-8\", \"9-12\", \"13+\"]"
   ]
  },
  {
   "cell_type": "code",
   "execution_count": 7,
   "id": "3457d0e0-63ca-4fbc-a414-e27bf0d28ced",
   "metadata": {},
   "outputs": [],
   "source": [
    "lalonde_obs[\"education_group\"] = pd.cut(\n",
    "    lalonde_obs[\"education\"], bins=bins, labels=labels, right=True, include_lowest=True\n",
    ")"
   ]
  },
  {
   "cell_type": "markdown",
   "id": "384afd1b-01c7-43a3-849d-82df4df6b679",
   "metadata": {},
   "source": [
    "## IPW - With Grouped Variables"
   ]
  },
  {
   "cell_type": "code",
   "execution_count": 8,
   "id": "69bf8eb9-e862-4c31-9e9c-fb441e5953a5",
   "metadata": {},
   "outputs": [],
   "source": [
    "lalonde_obs_dummified_df = pd.get_dummies(\n",
    "    lalonde_obs[\n",
    "        [\n",
    "            \"married\",\n",
    "            \"re74\",\n",
    "            \"re75\",\n",
    "            \"treat\",\n",
    "            \"age_group\",\n",
    "            \"black\",\n",
    "            \"hispanic\",\n",
    "            \"education_group\",\n",
    "            \"id\",\n",
    "        ]\n",
    "    ]\n",
    ")"
   ]
  },
  {
   "cell_type": "code",
   "execution_count": 9,
   "id": "846fc7b6-61af-4e4d-b667-5eb58ed029d0",
   "metadata": {},
   "outputs": [],
   "source": [
    "bool_columns = [\n",
    "    col\n",
    "    for col in lalonde_obs_dummified_df.columns\n",
    "    if \"age_group\" in col or \"education_group\" in col\n",
    "]\n",
    "for col in bool_columns:\n",
    "    lalonde_obs_dummified_df[col] = lalonde_obs_dummified_df[col].astype(int)"
   ]
  },
  {
   "cell_type": "code",
   "execution_count": 10,
   "id": "2602ca40-cc89-4612-aae1-55d0978ed472",
   "metadata": {},
   "outputs": [],
   "source": [
    "X = lalonde_obs_dummified_df.drop([\"treat\", \"id\"], axis=1)\n",
    "y = lalonde_obs_dummified_df[\"treat\"]\n",
    "\n",
    "X = sm.add_constant(X)"
   ]
  },
  {
   "cell_type": "code",
   "execution_count": 11,
   "id": "469dc032-e216-497e-892a-a9158a4eb11e",
   "metadata": {},
   "outputs": [
    {
     "name": "stdout",
     "output_type": "stream",
     "text": [
      "Optimization terminated successfully.\n",
      "         Current function value: 0.087341\n",
      "         Iterations 11\n"
     ]
    }
   ],
   "source": [
    "model = sm.Logit(y, X).fit()"
   ]
  },
  {
   "cell_type": "code",
   "execution_count": 12,
   "id": "413c57b9-1a54-47d2-a1f5-d29986e9cfca",
   "metadata": {},
   "outputs": [
    {
     "name": "stdout",
     "output_type": "stream",
     "text": [
      "                           Logit Regression Results                           \n",
      "==============================================================================\n",
      "Dep. Variable:                  treat   No. Observations:                 2675\n",
      "Model:                          Logit   Df Residuals:                     2663\n",
      "Method:                           MLE   Df Model:                           11\n",
      "Date:                Sun, 19 May 2024   Pseudo R-squ.:                  0.6527\n",
      "Time:                        01:48:11   Log-Likelihood:                -233.64\n",
      "converged:                       True   LL-Null:                       -672.65\n",
      "Covariance Type:            nonrobust   LLR p-value:                3.285e-181\n",
      "========================================================================================\n",
      "                           coef    std err          z      P>|z|      [0.025      0.975]\n",
      "----------------------------------------------------------------------------------------\n",
      "const                   -0.6734        nan        nan        nan         nan         nan\n",
      "married                 -1.9431      0.271     -7.170      0.000      -2.474      -1.412\n",
      "re74                    -0.0001   2.93e-05     -4.268      0.000      -0.000   -6.76e-05\n",
      "re75                    -0.0003   3.95e-05     -6.402      0.000      -0.000      -0.000\n",
      "black                    2.1790      0.321      6.781      0.000       1.549       2.809\n",
      "hispanic                 2.2733      0.559      4.066      0.000       1.177       3.369\n",
      "age_group_0-25           0.0817        nan        nan        nan         nan         nan\n",
      "age_group_26-33          0.5004        nan        nan        nan         nan         nan\n",
      "age_group_34-40          0.2099        nan        nan        nan         nan         nan\n",
      "age_group_41+           -1.4654        nan        nan        nan         nan         nan\n",
      "education_group_0-5     -0.1414        nan        nan        nan         nan         nan\n",
      "education_group_6-8     -0.1212        nan        nan        nan         nan         nan\n",
      "education_group_9-12     0.3087        nan        nan        nan         nan         nan\n",
      "education_group_13+     -0.7194        nan        nan        nan         nan         nan\n",
      "========================================================================================\n",
      "\n",
      "Possibly complete quasi-separation: A fraction 0.44 of observations can be\n",
      "perfectly predicted. This might indicate that there is complete\n",
      "quasi-separation. In this case some parameters will not be identified.\n"
     ]
    }
   ],
   "source": [
    "print(model.summary())"
   ]
  },
  {
   "cell_type": "code",
   "execution_count": 13,
   "id": "f1512c0b-e4d6-4440-ba62-2a1276addc17",
   "metadata": {},
   "outputs": [],
   "source": [
    "propensity_scores = model.predict(X).reset_index(drop=True)\n",
    "lalonde_obs_dummified_df[\"propensity\"] = propensity_scores\n",
    "lalonde_obs_dummified_df[\"ipw\"] = 1 / lalonde_obs_dummified_df[\"propensity\"]\n",
    "lalonde_obs_dummified_df = pd.merge(\n",
    "    lalonde_obs_dummified_df, lalonde_obs[[\"id\", \"re78\"]], on=\"id\"\n",
    ")"
   ]
  },
  {
   "cell_type": "code",
   "execution_count": 14,
   "id": "014a258e-d2e8-4bb1-b0b3-82acc0c8f22b",
   "metadata": {},
   "outputs": [
    {
     "name": "stderr",
     "output_type": "stream",
     "text": [
      "/var/folders/0b/ny60dqh52qs1n21clwwttn7w0000gn/T/ipykernel_78310/3348943445.py:1: DeprecationWarning: DataFrameGroupBy.apply operated on the grouping columns. This behavior is deprecated, and in a future version of pandas the grouping columns will be excluded from the operation. Either pass `include_groups=False` to exclude the groupings or explicitly select the grouping columns after groupby to silence this warning.\n",
      "  lalonde_obs_dummified_df.groupby(\"treat\").apply(\n"
     ]
    },
    {
     "data": {
      "text/plain": [
       "treat\n",
       "0    88663.593725\n",
       "1    16560.554625\n",
       "dtype: float64"
      ]
     },
     "execution_count": 14,
     "metadata": {},
     "output_type": "execute_result"
    }
   ],
   "source": [
    "lalonde_obs_dummified_df.groupby(\"treat\").apply(\n",
    "    lambda x: np.average(x[\"re78\"], weights=x[\"ipw\"])\n",
    ")"
   ]
  },
  {
   "cell_type": "markdown",
   "id": "8ae2daf4-bbe3-4f77-8caf-d5bf66748fbc",
   "metadata": {},
   "source": [
    "## IPW - With no groupings"
   ]
  },
  {
   "cell_type": "code",
   "execution_count": 15,
   "id": "0bf813a9-6a3c-4c05-980c-db622ccf153e",
   "metadata": {},
   "outputs": [],
   "source": [
    "lalonde_obs_confounders_df = lalonde_obs[\n",
    "    [\n",
    "        \"married\",\n",
    "        \"re74\",\n",
    "        \"re75\",\n",
    "        \"treat\",\n",
    "        \"age\",\n",
    "        \"black\",\n",
    "        \"hispanic\",\n",
    "        \"education\",\n",
    "        \"id\",\n",
    "    ]\n",
    "].copy()"
   ]
  },
  {
   "cell_type": "code",
   "execution_count": 16,
   "id": "39924afc-733c-4f0b-91b1-bfd5a58cbb04",
   "metadata": {},
   "outputs": [],
   "source": [
    "X = lalonde_obs_confounders_df.drop([\"treat\", \"id\"], axis=1)\n",
    "y = lalonde_obs_confounders_df[\"treat\"]\n",
    "\n",
    "X = sm.add_constant(X)"
   ]
  },
  {
   "cell_type": "code",
   "execution_count": 17,
   "id": "54b835c0-efe9-4daa-bb56-4aeb0ca0a949",
   "metadata": {},
   "outputs": [
    {
     "name": "stdout",
     "output_type": "stream",
     "text": [
      "Optimization terminated successfully.\n",
      "         Current function value: 0.088313\n",
      "         Iterations 11\n"
     ]
    }
   ],
   "source": [
    "model = sm.Logit(y, X).fit()"
   ]
  },
  {
   "cell_type": "code",
   "execution_count": 18,
   "id": "d398f52b-308f-46a9-aa54-ba0df396174a",
   "metadata": {},
   "outputs": [
    {
     "name": "stdout",
     "output_type": "stream",
     "text": [
      "                           Logit Regression Results                           \n",
      "==============================================================================\n",
      "Dep. Variable:                  treat   No. Observations:                 2675\n",
      "Model:                          Logit   Df Residuals:                     2667\n",
      "Method:                           MLE   Df Model:                            7\n",
      "Date:                Sun, 19 May 2024   Pseudo R-squ.:                  0.6488\n",
      "Time:                        01:48:11   Log-Likelihood:                -236.24\n",
      "converged:                       True   LL-Null:                       -672.65\n",
      "Covariance Type:            nonrobust   LLR p-value:                3.544e-184\n",
      "==============================================================================\n",
      "                 coef    std err          z      P>|z|      [0.025      0.975]\n",
      "------------------------------------------------------------------------------\n",
      "const          2.3027      0.911      2.527      0.012       0.517       4.089\n",
      "married       -1.5884      0.260     -6.103      0.000      -2.098      -1.078\n",
      "re74          -0.0001   2.94e-05     -3.986      0.000      -0.000   -5.95e-05\n",
      "re75          -0.0003   3.95e-05     -6.526      0.000      -0.000      -0.000\n",
      "age           -0.0840      0.015     -5.693      0.000      -0.113      -0.055\n",
      "black          2.2430      0.318      7.060      0.000       1.620       2.866\n",
      "hispanic       2.0943      0.558      3.750      0.000       1.000       3.189\n",
      "education     -0.0625      0.051     -1.216      0.224      -0.163       0.038\n",
      "==============================================================================\n",
      "\n",
      "Possibly complete quasi-separation: A fraction 0.44 of observations can be\n",
      "perfectly predicted. This might indicate that there is complete\n",
      "quasi-separation. In this case some parameters will not be identified.\n"
     ]
    }
   ],
   "source": [
    "print(model.summary())"
   ]
  },
  {
   "cell_type": "code",
   "execution_count": 19,
   "id": "6a466640-e023-4bb9-9df7-c3a41887a492",
   "metadata": {},
   "outputs": [],
   "source": [
    "propensity_scores = model.predict(X).reset_index(drop=True)\n",
    "lalonde_obs_confounders_df[\"propensity\"] = propensity_scores\n",
    "lalonde_obs_confounders_df[\"ipw\"] = 1 / lalonde_obs_confounders_df[\"propensity\"]\n",
    "lalonde_obs_confounders_df = pd.merge(\n",
    "    lalonde_obs_confounders_df, lalonde_obs[[\"id\", \"re78\"]], on=\"id\"\n",
    ")"
   ]
  },
  {
   "cell_type": "code",
   "execution_count": 20,
   "id": "d51e7223-d889-427f-8948-34b6fc3398b9",
   "metadata": {},
   "outputs": [
    {
     "name": "stderr",
     "output_type": "stream",
     "text": [
      "/var/folders/0b/ny60dqh52qs1n21clwwttn7w0000gn/T/ipykernel_78310/2060339750.py:1: DeprecationWarning: DataFrameGroupBy.apply operated on the grouping columns. This behavior is deprecated, and in a future version of pandas the grouping columns will be excluded from the operation. Either pass `include_groups=False` to exclude the groupings or explicitly select the grouping columns after groupby to silence this warning.\n",
      "  lalonde_obs_confounders_df.groupby(\"treat\").apply(\n"
     ]
    },
    {
     "data": {
      "text/plain": [
       "treat\n",
       "0    88663.593714\n",
       "1     9211.082147\n",
       "dtype: float64"
      ]
     },
     "execution_count": 20,
     "metadata": {},
     "output_type": "execute_result"
    }
   ],
   "source": [
    "lalonde_obs_confounders_df.groupby(\"treat\").apply(\n",
    "    lambda x: np.average(x[\"re78\"], weights=x[\"ipw\"])\n",
    ")"
   ]
  },
  {
   "cell_type": "markdown",
   "id": "bb0d6037-0c12-461a-a88b-69583b8b1b69",
   "metadata": {},
   "source": [
    "## IPW - with correlated variables"
   ]
  },
  {
   "cell_type": "code",
   "execution_count": 21,
   "id": "bf9ecc8f-cf38-452a-ba83-8210eca1b729",
   "metadata": {},
   "outputs": [],
   "source": [
    "lalonde_obs_confounders_df = lalonde_obs[\n",
    "    [\n",
    "        \"married\",\n",
    "        \"re74\",\n",
    "        \"re75\",\n",
    "        \"treat\",\n",
    "        \"age\",\n",
    "        \"black\",\n",
    "        \"hispanic\",\n",
    "        \"education\",\n",
    "        \"nodegree\",\n",
    "        \"id\",\n",
    "    ]\n",
    "].copy()"
   ]
  },
  {
   "cell_type": "code",
   "execution_count": 22,
   "id": "d1830db8-cb2d-499e-82d9-d69bf03bf486",
   "metadata": {},
   "outputs": [],
   "source": [
    "X = lalonde_obs_confounders_df.drop([\"treat\", \"id\"], axis=1)\n",
    "y = lalonde_obs_confounders_df[\"treat\"]\n",
    "\n",
    "X = sm.add_constant(X)"
   ]
  },
  {
   "cell_type": "code",
   "execution_count": 23,
   "id": "2c3e4fc7-f742-4d5c-bc53-c262f8a23c59",
   "metadata": {},
   "outputs": [
    {
     "name": "stdout",
     "output_type": "stream",
     "text": [
      "Optimization terminated successfully.\n",
      "         Current function value: 0.087406\n",
      "         Iterations 11\n"
     ]
    }
   ],
   "source": [
    "model = sm.Logit(y, X).fit()"
   ]
  },
  {
   "cell_type": "code",
   "execution_count": 24,
   "id": "6f2205ad-70f5-4612-a790-371330cc8f09",
   "metadata": {},
   "outputs": [
    {
     "name": "stdout",
     "output_type": "stream",
     "text": [
      "                           Logit Regression Results                           \n",
      "==============================================================================\n",
      "Dep. Variable:                  treat   No. Observations:                 2675\n",
      "Model:                          Logit   Df Residuals:                     2666\n",
      "Method:                           MLE   Df Model:                            8\n",
      "Date:                Sun, 19 May 2024   Pseudo R-squ.:                  0.6524\n",
      "Time:                        01:48:11   Log-Likelihood:                -233.81\n",
      "converged:                       True   LL-Null:                       -672.65\n",
      "Covariance Type:            nonrobust   LLR p-value:                3.683e-184\n",
      "==============================================================================\n",
      "                 coef    std err          z      P>|z|      [0.025      0.975]\n",
      "------------------------------------------------------------------------------\n",
      "const          0.6371      1.180      0.540      0.589      -1.676       2.950\n",
      "married       -1.6273      0.263     -6.195      0.000      -2.142      -1.112\n",
      "re74          -0.0001   2.91e-05     -3.747      0.000      -0.000   -5.21e-05\n",
      "re75          -0.0003   4.04e-05     -6.466      0.000      -0.000      -0.000\n",
      "age           -0.0790      0.015     -5.345      0.000      -0.108      -0.050\n",
      "black          2.2002      0.318      6.915      0.000       1.577       2.824\n",
      "hispanic       2.0084      0.559      3.591      0.000       0.912       3.105\n",
      "education      0.0398      0.070      0.571      0.568      -0.097       0.176\n",
      "nodegree       0.7742      0.353      2.194      0.028       0.083       1.466\n",
      "==============================================================================\n",
      "\n",
      "Possibly complete quasi-separation: A fraction 0.44 of observations can be\n",
      "perfectly predicted. This might indicate that there is complete\n",
      "quasi-separation. In this case some parameters will not be identified.\n"
     ]
    }
   ],
   "source": [
    "print(model.summary())"
   ]
  },
  {
   "cell_type": "code",
   "execution_count": 25,
   "id": "afb7ba1c-f17a-4e97-a057-a74eb1f3cf7b",
   "metadata": {},
   "outputs": [],
   "source": [
    "propensity_scores = model.predict(X).reset_index(drop=True)\n",
    "lalonde_obs_confounders_df[\"propensity\"] = propensity_scores\n",
    "lalonde_obs_confounders_df[\"ipw\"] = 1 / lalonde_obs_confounders_df[\"propensity\"]\n",
    "lalonde_obs_confounders_df = pd.merge(\n",
    "    lalonde_obs_confounders_df, lalonde_obs[[\"id\", \"re78\"]], on=\"id\"\n",
    ")"
   ]
  },
  {
   "cell_type": "code",
   "execution_count": 26,
   "id": "bc44ffcf-f062-4bfe-9ab4-6e69dfe17c34",
   "metadata": {},
   "outputs": [
    {
     "name": "stderr",
     "output_type": "stream",
     "text": [
      "/var/folders/0b/ny60dqh52qs1n21clwwttn7w0000gn/T/ipykernel_78310/2060339750.py:1: DeprecationWarning: DataFrameGroupBy.apply operated on the grouping columns. This behavior is deprecated, and in a future version of pandas the grouping columns will be excluded from the operation. Either pass `include_groups=False` to exclude the groupings or explicitly select the grouping columns after groupby to silence this warning.\n",
      "  lalonde_obs_confounders_df.groupby(\"treat\").apply(\n"
     ]
    },
    {
     "data": {
      "text/plain": [
       "treat\n",
       "0    88663.593723\n",
       "1    10299.169290\n",
       "dtype: float64"
      ]
     },
     "execution_count": 26,
     "metadata": {},
     "output_type": "execute_result"
    }
   ],
   "source": [
    "lalonde_obs_confounders_df.groupby(\"treat\").apply(\n",
    "    lambda x: np.average(x[\"re78\"], weights=x[\"ipw\"])\n",
    ")"
   ]
  },
  {
   "cell_type": "code",
   "execution_count": null,
   "id": "1ff47c94-67cc-4c15-b447-caf08332d573",
   "metadata": {},
   "outputs": [],
   "source": []
  }
 ],
 "metadata": {
  "kernelspec": {
   "display_name": "Python 3 (ipykernel)",
   "language": "python",
   "name": "python3"
  },
  "language_info": {
   "codemirror_mode": {
    "name": "ipython",
    "version": 3
   },
   "file_extension": ".py",
   "mimetype": "text/x-python",
   "name": "python",
   "nbconvert_exporter": "python",
   "pygments_lexer": "ipython3",
   "version": "3.12.3"
  }
 },
 "nbformat": 4,
 "nbformat_minor": 5
}
